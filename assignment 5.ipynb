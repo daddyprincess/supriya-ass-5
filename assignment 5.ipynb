{
 "cells": [
  {
   "cell_type": "markdown",
   "id": "e6b51c52-1922-423b-b004-1a1a28e8e37e",
   "metadata": {},
   "source": [
    "## 1.class and object"
   ]
  },
  {
   "cell_type": "code",
   "execution_count": null,
   "id": "e897d889-eb61-4214-b672-e40a9bd2b958",
   "metadata": {},
   "outputs": [],
   "source": [
    "Clases:\n",
    "class are user-defined data types that act as the blueprint for individual objects,attributes and methods.\n",
    "Objects:\n",
    "Objects are instances of a class created with specifically defined data.Objects can correspond to real-world objects or an \n",
    "abstract entity.\n"
   ]
  },
  {
   "cell_type": "code",
   "execution_count": 1,
   "id": "c8c72c86-11a4-4c86-84fa-0be4e3aae49e",
   "metadata": {},
   "outputs": [
    {
     "name": "stdout",
     "output_type": "stream",
     "text": [
      "name :mountain Bike,Gears:11\n"
     ]
    }
   ],
   "source": [
    "#define a class \n",
    "class Bike:\n",
    "    name =\" \"\n",
    "    gear = 0\n",
    "#create object of class\n",
    "bike1 = Bike()\n",
    "#access attribute and assign new values\n",
    "bike1 . gear = 11\n",
    "bike1 . name = \"mountain Bike\"\n",
    "print (f\"name :{bike1 . name},Gears:{bike1 . gear}\")"
   ]
  },
  {
   "cell_type": "markdown",
   "id": "3359c259-0a30-4509-af8b-74d95f9c920f",
   "metadata": {},
   "source": [
    "## 2. pillars"
   ]
  },
  {
   "cell_type": "code",
   "execution_count": null,
   "id": "d8c049ad-24ae-4dc5-8fe1-4bed71733910",
   "metadata": {},
   "outputs": [],
   "source": [
    "There are four types of pillars:\n",
    "    1.Encapsulation\n",
    "    2.Inheritance\n",
    "    3.Polymorphism\n",
    "    4.Absteraction   "
   ]
  },
  {
   "cell_type": "markdown",
   "id": "dc181058-b8a1-45be-8f29-fd6f1cdf0223",
   "metadata": {},
   "source": [
    "## 3._ _int_ _ function"
   ]
  },
  {
   "cell_type": "code",
   "execution_count": null,
   "id": "19dd74c9-6274-407a-b78c-9431a979a5a7",
   "metadata": {},
   "outputs": [],
   "source": [
    "The int in python is a built-in method that converts a string or a number into an intrger.We can also use int in python to\n",
    "convert binary numbers to decimal numbers, hexadecimal numbers to decimal numbers,and octal numbers into decimal numbers."
   ]
  },
  {
   "cell_type": "code",
   "execution_count": 14,
   "id": "daacd22d-9683-488f-85a7-345eb54d5715",
   "metadata": {},
   "outputs": [
    {
     "name": "stdout",
     "output_type": "stream",
     "text": [
      "integer number is: 11\n"
     ]
    }
   ],
   "source": [
    "string_numbers = \"11\"\n",
    "integer_number = int(string_numbers)\n",
    "print(\"integer number is:\",integer_number)"
   ]
  },
  {
   "cell_type": "markdown",
   "id": "247da64b-e1cd-452b-a69e-4a6686fff305",
   "metadata": {},
   "source": [
    "## 4.self"
   ]
  },
  {
   "cell_type": "code",
   "execution_count": 19,
   "id": "7c6ed861-b63a-42be-b06f-97fbbc03117b",
   "metadata": {},
   "outputs": [],
   "source": [
    "The self is used to represnt the instance of the class.With this keyword, you can access the attributes and methods of the \n",
    "class in python. It binds the attributes with the given arguments. The reason why we use self is that python does not use the\n",
    "'@' syntax to refer to instance attributes.\n",
    "\n"
   ]
  },
  {
   "cell_type": "markdown",
   "id": "f83ba721-b3c1-4dfc-b831-1a451902c49e",
   "metadata": {},
   "source": [
    "## 5.Inheritance"
   ]
  },
  {
   "cell_type": "code",
   "execution_count": null,
   "id": "c3e06664-87a3-4dd7-ad6c-781d5e3e691c",
   "metadata": {},
   "outputs": [],
   "source": [
    "Inheritance allows us to define a class that inherits all the methods and properties from another class.\n",
    "Parent class:\n",
    "parent class is the class being inherited from,also called base class.\n",
    "Child class:\n",
    "child class is the class that inherits from another class,also called derived class."
   ]
  },
  {
   "cell_type": "markdown",
   "id": "79a1fb6a-c2cf-43f3-964b-c83f81e25beb",
   "metadata": {},
   "source": [
    "## parent class"
   ]
  },
  {
   "cell_type": "code",
   "execution_count": 49,
   "id": "25a06812-5e31-4303-b949-e056ea8a6835",
   "metadata": {},
   "outputs": [
    {
     "name": "stdout",
     "output_type": "stream",
     "text": [
      "John Doe\n"
     ]
    }
   ],
   "source": [
    "class Person:\n",
    "    def __init__(self, fname, lname):\n",
    "        self.firstname = fname\n",
    "        self.lastname = lname\n",
    "\n",
    "    def printname(self):\n",
    "        print(self.firstname, self.lastname)\n",
    "\n",
    "#Use the Person class to create an object, and then execute the printname method:\n",
    "\n",
    "x = Person(\"John\", \"Doe\")\n",
    "x.printname()"
   ]
  },
  {
   "cell_type": "markdown",
   "id": "484c640b-6aca-415d-bd0a-bc70b2276e6c",
   "metadata": {},
   "source": [
    "## child class"
   ]
  },
  {
   "cell_type": "code",
   "execution_count": 47,
   "id": "426346ea-76ab-414c-95cc-a1660068ea24",
   "metadata": {},
   "outputs": [
    {
     "name": "stdout",
     "output_type": "stream",
     "text": [
      "Mike Olsen\n"
     ]
    }
   ],
   "source": [
    "class Person:\n",
    "    def __init__(self, fname, lname):\n",
    "        self.firstname = fname\n",
    "        self.lastname = lname\n",
    "    def printname(self):\n",
    "        print(self.firstname, self.lastname)\n",
    "\n",
    "class Student(Person):\n",
    "      pass\n",
    "\n",
    "x = Student(\"Mike\", \"Olsen\")\n",
    "x.printname()\n"
   ]
  },
  {
   "cell_type": "code",
   "execution_count": null,
   "id": "82ae76d0-31a3-46f5-853d-c49537959030",
   "metadata": {},
   "outputs": [],
   "source": []
  },
  {
   "cell_type": "code",
   "execution_count": null,
   "id": "95e9f8c0-6d7f-4f54-8b92-711cf715e723",
   "metadata": {},
   "outputs": [],
   "source": []
  },
  {
   "cell_type": "code",
   "execution_count": null,
   "id": "e0d04900-20f9-40a5-b1b8-ff6acad68550",
   "metadata": {},
   "outputs": [],
   "source": []
  },
  {
   "cell_type": "code",
   "execution_count": null,
   "id": "5de40a6b-8046-40a0-b741-39b54ff1ac39",
   "metadata": {},
   "outputs": [],
   "source": []
  }
 ],
 "metadata": {
  "kernelspec": {
   "display_name": "Python 3 (ipykernel)",
   "language": "python",
   "name": "python3"
  },
  "language_info": {
   "codemirror_mode": {
    "name": "ipython",
    "version": 3
   },
   "file_extension": ".py",
   "mimetype": "text/x-python",
   "name": "python",
   "nbconvert_exporter": "python",
   "pygments_lexer": "ipython3",
   "version": "3.10.8"
  }
 },
 "nbformat": 4,
 "nbformat_minor": 5
}
